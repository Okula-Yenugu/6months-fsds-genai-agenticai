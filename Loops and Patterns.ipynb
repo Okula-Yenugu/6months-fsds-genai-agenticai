{
 "cells": [
  {
   "cell_type": "markdown",
   "id": "7cfa8074-2228-4400-abd4-86f8e70bf076",
   "metadata": {},
   "source": [
    "# Loops and Patterns"
   ]
  },
  {
   "cell_type": "markdown",
   "id": "718f68e0-1851-46e1-a7fc-780da56172e0",
   "metadata": {},
   "source": [
    "## while loop"
   ]
  },
  {
   "cell_type": "code",
   "execution_count": 1,
   "id": "6d280b6c-acbd-4d09-927e-9596ba1b9fcd",
   "metadata": {},
   "outputs": [
    {
     "name": "stdout",
     "output_type": "stream",
     "text": [
      "Data Science\n",
      "Data Science\n",
      "Data Science\n",
      "Data Science\n",
      "Data Science\n"
     ]
    }
   ],
   "source": [
    "i=1 ### initializing\n",
    "\n",
    "while i<=5: # condition\n",
    "    print('Data Science')\n",
    "    i=i+1 # increment"
   ]
  },
  {
   "cell_type": "code",
   "execution_count": 2,
   "id": "b86b5dba-c681-4a7a-9d48-0cd96466d27a",
   "metadata": {
    "scrolled": true
   },
   "outputs": [
    {
     "name": "stdout",
     "output_type": "stream",
     "text": [
      "Data Science: 1\n",
      "Data Science: 2\n",
      "Data Science: 3\n",
      "Data Science: 4\n",
      "Data Science: 5\n"
     ]
    }
   ],
   "source": [
    "i=1 ### initializing\n",
    "\n",
    "while i<=5: # condition\n",
    "    print('Data Science:', i)\n",
    "    i=i+1 # increment"
   ]
  },
  {
   "cell_type": "code",
   "execution_count": 3,
   "id": "ce942c9b-c6d0-47b2-a694-148cb7654833",
   "metadata": {},
   "outputs": [
    {
     "name": "stdout",
     "output_type": "stream",
     "text": [
      "Data Science: 5\n",
      "Data Science: 4\n",
      "Data Science: 3\n",
      "Data Science: 2\n",
      "Data Science: 1\n"
     ]
    }
   ],
   "source": [
    "i=5 ### initializing\n",
    "\n",
    "while i>=1: # condition\n",
    "    print('Data Science:', i)\n",
    "    i=i-1 # decrement"
   ]
  },
  {
   "cell_type": "markdown",
   "id": "03b2c162-29f0-40e7-a125-9a3fcb7b73ee",
   "metadata": {},
   "source": [
    "### nested while loop"
   ]
  },
  {
   "cell_type": "code",
   "execution_count": 4,
   "id": "0c1ec94f-2d88-4df1-9bfd-3645593102b3",
   "metadata": {},
   "outputs": [
    {
     "name": "stdout",
     "output_type": "stream",
     "text": [
      "Data Science: 1\n",
      "Technology: 1\n",
      "Technology: 2\n",
      "\n",
      "Data Science: 2\n",
      "Technology: 1\n",
      "Technology: 2\n",
      "\n",
      "Data Science: 3\n",
      "Technology: 1\n",
      "Technology: 2\n",
      "\n"
     ]
    }
   ],
   "source": [
    "i=1\n",
    "while i<=3:\n",
    "    print('Data Science:',i)\n",
    "    j=1\n",
    "    while j<=2:\n",
    "        print('Technology:',j)\n",
    "        j=j+1\n",
    "    i=i+1\n",
    "    print()"
   ]
  },
  {
   "cell_type": "markdown",
   "id": "6f5c56b9-63c1-491e-978a-9cc746e3babd",
   "metadata": {},
   "source": [
    "#### end attribute in print() to avoid to print next statement in new line"
   ]
  },
  {
   "cell_type": "code",
   "execution_count": 6,
   "id": "b92ecadb-8cf4-400f-a779-1f02cfd1f569",
   "metadata": {},
   "outputs": [
    {
     "name": "stdout",
     "output_type": "stream",
     "text": [
      "Data Science: 1 Technology: 1 Technology: 2 \n",
      "Data Science: 2 Technology: 1 Technology: 2 \n",
      "Data Science: 3 Technology: 1 Technology: 2 \n"
     ]
    }
   ],
   "source": [
    "i=1\n",
    "while i<=3:\n",
    "    print('Data Science:',i, end=\" \")# when we menstion end, then new line will not create\n",
    "    j=1\n",
    "    while j<=2:\n",
    "        print('Technology:',j, end=\" \")\n",
    "        j=j+1\n",
    "    i=i+1\n",
    "    print()"
   ]
  },
  {
   "cell_type": "code",
   "execution_count": 7,
   "id": "67212028-de6f-49c7-92c0-3a2c2d44c3ac",
   "metadata": {},
   "outputs": [
    {
     "name": "stdout",
     "output_type": "stream",
     "text": [
      "0 1 2 \n",
      "0 2 4 \n"
     ]
    }
   ],
   "source": [
    "i=1\n",
    "while i<=2:\n",
    "    j=0\n",
    "    while j<=2:\n",
    "        print(i*j, end=\" \")\n",
    "        j +=1\n",
    "    print()\n",
    "    i +=1"
   ]
  },
  {
   "cell_type": "code",
   "execution_count": 8,
   "id": "9321ed05-34ed-4e4d-8cf7-e65ab6b8c500",
   "metadata": {},
   "outputs": [
    {
     "name": "stdout",
     "output_type": "stream",
     "text": [
      "0 1 2 3 \n",
      "0 2 4 6 \n",
      "0 3 6 9 \n",
      "0 4 8 12 \n"
     ]
    }
   ],
   "source": [
    "i=1\n",
    "while i<=4:\n",
    "    j=0\n",
    "    while j<=3:\n",
    "        print(i*j, end=\" \")\n",
    "        j +=1\n",
    "    print()\n",
    "    i +=1"
   ]
  },
  {
   "cell_type": "markdown",
   "id": "76c27829-9a2e-4eab-b5da-002c99f14b86",
   "metadata": {},
   "source": [
    "### FOR LOOP\n",
    "#### normally while loop, it works with iteration or some certain conditions but for loop it will work with sequence(list, string, int)"
   ]
  },
  {
   "cell_type": "code",
   "execution_count": 9,
   "id": "699f0e04-faab-4342-9348-26d1f1364e14",
   "metadata": {},
   "outputs": [
    {
     "name": "stdout",
     "output_type": "stream",
     "text": [
      "v\n",
      "a\n",
      "s\n",
      "a\n",
      "n\n",
      "t\n",
      "h\n"
     ]
    }
   ],
   "source": [
    "name='vasanth'\n",
    "\n",
    "for j in name:\n",
    "    print(j)"
   ]
  },
  {
   "cell_type": "code",
   "execution_count": 10,
   "id": "6312c9bb-8f28-4a61-99cf-cbc331800003",
   "metadata": {},
   "outputs": [
    {
     "name": "stdout",
     "output_type": "stream",
     "text": [
      "1\n",
      "2\n",
      "3.5\n",
      "okula\n"
     ]
    }
   ],
   "source": [
    "name1=[1,2,3.5,'okula']\n",
    "\n",
    "for i in name1:\n",
    "    print(i)"
   ]
  },
  {
   "cell_type": "code",
   "execution_count": 11,
   "id": "e5f9cce8-8a8b-4e56-8114-6b20eb30f211",
   "metadata": {},
   "outputs": [
    {
     "name": "stdout",
     "output_type": "stream",
     "text": [
      "2\n",
      "3\n",
      "7.8\n",
      "hi\n"
     ]
    }
   ],
   "source": [
    "for i in [2,3,7.8,'hi']:\n",
    "    print(i)"
   ]
  },
  {
   "cell_type": "code",
   "execution_count": 12,
   "id": "9da314f2-d871-4745-8afc-dc9107d956e7",
   "metadata": {},
   "outputs": [
    {
     "data": {
      "text/plain": [
       "range(0, 5)"
      ]
     },
     "execution_count": 12,
     "metadata": {},
     "output_type": "execute_result"
    }
   ],
   "source": [
    "range(5)"
   ]
  },
  {
   "cell_type": "code",
   "execution_count": 13,
   "id": "ca6285f9-d1d3-45b9-be36-7c7f55532390",
   "metadata": {},
   "outputs": [
    {
     "name": "stdout",
     "output_type": "stream",
     "text": [
      "0\n",
      "1\n",
      "2\n",
      "3\n",
      "4\n"
     ]
    }
   ],
   "source": [
    "for i in range(5):\n",
    "    print(i)"
   ]
  },
  {
   "cell_type": "code",
   "execution_count": 14,
   "id": "cc933c80-5047-4351-8d40-990b6260e19b",
   "metadata": {},
   "outputs": [
    {
     "name": "stdout",
     "output_type": "stream",
     "text": [
      "2\n",
      "3\n",
      "4\n"
     ]
    }
   ],
   "source": [
    "for i in range(2,5):\n",
    "    print(i)"
   ]
  },
  {
   "cell_type": "code",
   "execution_count": 15,
   "id": "5e747ba7-76f9-4a16-80e2-9b632f1e6885",
   "metadata": {},
   "outputs": [
    {
     "name": "stdout",
     "output_type": "stream",
     "text": [
      "1\n",
      "4\n",
      "7\n"
     ]
    }
   ],
   "source": [
    "for i in range(1,10,3):\n",
    "    print(i)"
   ]
  },
  {
   "cell_type": "code",
   "execution_count": 16,
   "id": "dd5a9f9a-8de6-4818-8d30-b89ea06d5ac8",
   "metadata": {},
   "outputs": [
    {
     "name": "stdout",
     "output_type": "stream",
     "text": [
      "1\n",
      "6\n"
     ]
    }
   ],
   "source": [
    "for i in range(1,10,5):\n",
    "    print(i)"
   ]
  },
  {
   "cell_type": "markdown",
   "id": "493b1ed3-dffe-4a84-9568-633afd1002e5",
   "metadata": {},
   "source": [
    "#### print the value which is divisible by 5"
   ]
  },
  {
   "cell_type": "code",
   "execution_count": 17,
   "id": "356779f4-9a3a-43d7-beb6-34708e60d9be",
   "metadata": {},
   "outputs": [
    {
     "name": "stdout",
     "output_type": "stream",
     "text": [
      "5 10 15 20 25 30 35 40 45 50 "
     ]
    }
   ],
   "source": [
    "for i in range(1,51):\n",
    "    if i%5==0:\n",
    "        print(i,end=\" \")"
   ]
  },
  {
   "cell_type": "markdown",
   "id": "95f937ae-543f-4dac-80e8-a807f909d7ec",
   "metadata": {},
   "source": [
    "#### print the value which is divisible by 3"
   ]
  },
  {
   "cell_type": "code",
   "execution_count": 18,
   "id": "1d27bbd6-201f-4cf8-80fe-985088b91df6",
   "metadata": {},
   "outputs": [
    {
     "name": "stdout",
     "output_type": "stream",
     "text": [
      "3 6 9 12 15 18 21 24 27 30 "
     ]
    }
   ],
   "source": [
    "for i in range(1,31):\n",
    "    if i%3==0:\n",
    "        print(i,end=\" \")"
   ]
  },
  {
   "cell_type": "markdown",
   "id": "8a96c68f-881c-48ba-9249-2bc56372d6a3",
   "metadata": {},
   "source": [
    "#### print the values which are not divisible by 3"
   ]
  },
  {
   "cell_type": "code",
   "execution_count": 19,
   "id": "b5d4984f-1c31-484a-a011-511bb08674dd",
   "metadata": {},
   "outputs": [
    {
     "name": "stdout",
     "output_type": "stream",
     "text": [
      "1 2 4 5 7 8 10 11 13 14 16 17 19 20 22 23 25 26 28 29 "
     ]
    }
   ],
   "source": [
    "for i in range(1,31):\n",
    "    if i%3!=0:\n",
    "        print(i,end=\" \")"
   ]
  },
  {
   "cell_type": "markdown",
   "id": "6ab03cee-7bd4-4e22-8765-293d13691122",
   "metadata": {},
   "source": [
    "#### print the values which are not divisible by 5"
   ]
  },
  {
   "cell_type": "code",
   "execution_count": 20,
   "id": "7f0f715d-cf63-42ad-ae5a-7d1a539b25a3",
   "metadata": {},
   "outputs": [
    {
     "name": "stdout",
     "output_type": "stream",
     "text": [
      "1 2 3 4 6 7 8 9 11 12 13 14 16 17 18 19 21 22 23 24 26 27 28 29 31 32 33 34 36 37 38 39 41 42 43 44 46 47 48 49 "
     ]
    }
   ],
   "source": [
    "for i in range(1,51):\n",
    "    if i%5!=0:\n",
    "        print(i,end=\" \")"
   ]
  },
  {
   "cell_type": "code",
   "execution_count": 22,
   "id": "b7739163-e696-484e-9577-8e6a0e46bd24",
   "metadata": {},
   "outputs": [
    {
     "name": "stdout",
     "output_type": "stream",
     "text": [
      "1 2 3 4 5 6 7 8 9 10 "
     ]
    }
   ],
   "source": [
    "for i in range(1,11):\n",
    "    print(i, end=\" \")"
   ]
  },
  {
   "cell_type": "markdown",
   "id": "93f646ac-1fe6-4ac7-9b4a-61e718837814",
   "metadata": {},
   "source": [
    "#### break ---> break the loop\n",
    "  "
   ]
  },
  {
   "cell_type": "code",
   "execution_count": 23,
   "id": "ea136a4a-0390-4644-88b3-e769d45c3bb5",
   "metadata": {},
   "outputs": [
    {
     "name": "stdout",
     "output_type": "stream",
     "text": [
      "1  2  3  4  "
     ]
    }
   ],
   "source": [
    "for i in range(1,11):\n",
    "    if(i==5):\n",
    "        break\n",
    "    print(i, end=\"  \")"
   ]
  },
  {
   "cell_type": "code",
   "execution_count": 24,
   "id": "c90e7c80-b7f1-40b4-a7b0-37e111ed9309",
   "metadata": {},
   "outputs": [
    {
     "name": "stdout",
     "output_type": "stream",
     "text": [
      "1  2  3  4  5  "
     ]
    }
   ],
   "source": [
    "for i in range(1,11):\n",
    "    if(i==6):\n",
    "        break\n",
    "    print(i, end=\"  \")"
   ]
  },
  {
   "cell_type": "markdown",
   "id": "b1c898ce-40dd-4e76-8370-3d1bd7e15c70",
   "metadata": {},
   "source": [
    "#### continue ----- skip the current part and continue with next iteration in loop\n",
    "\n",
    "##### in continue, loop wont be terminate and exclude the assign number and gives you entire output"
   ]
  },
  {
   "cell_type": "code",
   "execution_count": 25,
   "id": "9801aa86-4b3e-451c-8010-8443014effc9",
   "metadata": {},
   "outputs": [
    {
     "name": "stdout",
     "output_type": "stream",
     "text": [
      "1  2  3  4  5  7  8  9  10  "
     ]
    }
   ],
   "source": [
    "for i in range(1,11):\n",
    "    if(i==6):\n",
    "        continue\n",
    "    print(i, end=\"  \")"
   ]
  },
  {
   "cell_type": "markdown",
   "id": "fc39bb6e-c25b-4a92-b13b-e08e383f2e8d",
   "metadata": {},
   "source": [
    "#### pass"
   ]
  },
  {
   "cell_type": "code",
   "execution_count": 27,
   "id": "8175cfa7-61ae-4841-9934-1b165532a1b2",
   "metadata": {},
   "outputs": [
    {
     "ename": "SyntaxError",
     "evalue": "incomplete input (4054113036.py, line 1)",
     "output_type": "error",
     "traceback": [
      "\u001b[1;36m  Cell \u001b[1;32mIn[27], line 1\u001b[1;36m\u001b[0m\n\u001b[1;33m    for i in range(1,10):\u001b[0m\n\u001b[1;37m                         ^\u001b[0m\n\u001b[1;31mSyntaxError\u001b[0m\u001b[1;31m:\u001b[0m incomplete input\n"
     ]
    }
   ],
   "source": [
    "for i in range(1,10):"
   ]
  },
  {
   "cell_type": "code",
   "execution_count": 28,
   "id": "64abfe52-0123-4291-a2b4-d2e8233fa944",
   "metadata": {},
   "outputs": [],
   "source": [
    "for i in range(1,10):\n",
    "    pass # to avoid systax error we can use pass"
   ]
  },
  {
   "cell_type": "code",
   "execution_count": 29,
   "id": "06aa5d40-38d7-4199-a6c7-f4ae71f8795a",
   "metadata": {},
   "outputs": [
    {
     "name": "stdout",
     "output_type": "stream",
     "text": [
      "Hello: 1   Hello: 2   Hello: 3   Hello: 4   Hello: 5   Hello: 7   Hello: 8   Hello: 9   Hello: 10   "
     ]
    }
   ],
   "source": [
    "for i in range(1,11):\n",
    "    if i==6:\n",
    "        continue\n",
    "    print('Hello:',i, end=\"   \")"
   ]
  },
  {
   "cell_type": "markdown",
   "id": "15798513-03e9-4ae3-9d5e-2420cc4becad",
   "metadata": {},
   "source": [
    "### Print the number which is not divisible by 3 or 5 from 1 to 50 "
   ]
  },
  {
   "cell_type": "code",
   "execution_count": 30,
   "id": "61771128-e361-49b3-9a8c-3ed731b9960c",
   "metadata": {},
   "outputs": [
    {
     "name": "stdout",
     "output_type": "stream",
     "text": [
      "1  2  4  7  8  11  13  14  16  17  19  22  23  26  28  29  31  32  34  37  38  41  43  44  46  47  49  "
     ]
    }
   ],
   "source": [
    "for i in range(1,51):\n",
    "    if i%3==0 or i%5==0:\n",
    "        continue\n",
    "    print(i, end=\"  \")"
   ]
  },
  {
   "cell_type": "markdown",
   "id": "9f561cec-4479-467a-bcd4-c8ef9bb038cf",
   "metadata": {},
   "source": [
    "#### patterns in python"
   ]
  },
  {
   "cell_type": "code",
   "execution_count": 32,
   "id": "5fa4a083-85d5-4d7c-8c86-3eea0d17a3c8",
   "metadata": {},
   "outputs": [
    {
     "name": "stdout",
     "output_type": "stream",
     "text": [
      "# # # #\n",
      "# # # #\n",
      "# # # #\n",
      "# # # #\n"
     ]
    }
   ],
   "source": [
    "for i in range(1,5):\n",
    "    print('# # # #')"
   ]
  },
  {
   "cell_type": "code",
   "execution_count": 33,
   "id": "fea0f642-17de-4519-91ae-2ba597cd9aa7",
   "metadata": {},
   "outputs": [
    {
     "name": "stdout",
     "output_type": "stream",
     "text": [
      "# # # #\n",
      "# # # #\n",
      "# # # #\n",
      "# # # #\n"
     ]
    }
   ],
   "source": [
    "for i in range(4):\n",
    "    print('# # # #')"
   ]
  },
  {
   "cell_type": "code",
   "execution_count": 34,
   "id": "c6204694-66c3-438c-b8fa-28184e2814e8",
   "metadata": {},
   "outputs": [
    {
     "name": "stdout",
     "output_type": "stream",
     "text": [
      "# # # # \n",
      "# # # # \n",
      "# # # # \n",
      "# # # # \n"
     ]
    }
   ],
   "source": [
    "for i in range(4):\n",
    "    for j in range(4):\n",
    "        print('#', end=' ')\n",
    "    print()"
   ]
  },
  {
   "cell_type": "markdown",
   "id": "c43ccbc7-f80c-4c23-bb1d-5199f22fb0e1",
   "metadata": {},
   "source": [
    "### 1. Right angle Triangle pattern"
   ]
  },
  {
   "cell_type": "code",
   "execution_count": 35,
   "id": "68df1777-9b8f-42fb-9701-42b708914e00",
   "metadata": {},
   "outputs": [
    {
     "name": "stdout",
     "output_type": "stream",
     "text": [
      "*\n",
      "**\n",
      "***\n",
      "****\n",
      "*****\n"
     ]
    }
   ],
   "source": [
    "for i in range(1,6):\n",
    "    print('*'*i)"
   ]
  },
  {
   "cell_type": "markdown",
   "id": "3ffdf9ab-dabf-4994-8bb2-11588936de16",
   "metadata": {},
   "source": [
    "### 2. Inverted Right angle Triangle Pattern"
   ]
  },
  {
   "cell_type": "code",
   "execution_count": 36,
   "id": "b6d50320-d13d-4fff-a28d-b93d79efc076",
   "metadata": {},
   "outputs": [
    {
     "name": "stdout",
     "output_type": "stream",
     "text": [
      "*****\n",
      "****\n",
      "***\n",
      "**\n",
      "*\n"
     ]
    }
   ],
   "source": [
    "for i in range(5,0,-1):\n",
    "    print('*'*i)"
   ]
  },
  {
   "cell_type": "markdown",
   "id": "1486ca6f-8918-44dd-bc3c-cf3d768865bb",
   "metadata": {},
   "source": [
    "### 3. Pyramid Pattern"
   ]
  },
  {
   "cell_type": "code",
   "execution_count": 38,
   "id": "038447c1-672d-4b3d-9a90-a852f49fa1c7",
   "metadata": {},
   "outputs": [
    {
     "name": "stdout",
     "output_type": "stream",
     "text": [
      "         * \n",
      "        * * \n",
      "       * * * \n",
      "      * * * * \n",
      "     * * * * * \n",
      "    * * * * * * \n",
      "   * * * * * * * \n",
      "  * * * * * * * * \n",
      " * * * * * * * * * \n",
      "* * * * * * * * * * \n"
     ]
    }
   ],
   "source": [
    "rows=10\n",
    "for i in range(1, rows+1):\n",
    "    print(' '*(rows-i)+'* '*i)"
   ]
  },
  {
   "cell_type": "markdown",
   "id": "3d4f0b0c-6364-47da-8d30-d52f0c5ce613",
   "metadata": {},
   "source": [
    "### 4. Inverted Pyramid Pattern"
   ]
  },
  {
   "cell_type": "code",
   "execution_count": 39,
   "id": "0528445c-835d-479e-b82a-c803c1901f5f",
   "metadata": {},
   "outputs": [
    {
     "name": "stdout",
     "output_type": "stream",
     "text": [
      "* * * * * * * * * * \n",
      " * * * * * * * * * \n",
      "  * * * * * * * * \n",
      "   * * * * * * * \n",
      "    * * * * * * \n",
      "     * * * * * \n",
      "      * * * * \n",
      "       * * * \n",
      "        * * \n",
      "         * \n"
     ]
    }
   ],
   "source": [
    "rows=10\n",
    "for i in range(rows, 0, -1):\n",
    "    print(' '*(rows-i)+'* '*i)"
   ]
  },
  {
   "cell_type": "markdown",
   "id": "36e8adc1-2011-4c94-8e52-dcac50a3f38c",
   "metadata": {},
   "source": [
    "### 5.Diamond Pattern"
   ]
  },
  {
   "cell_type": "code",
   "execution_count": 40,
   "id": "653b7d3d-7cd0-4fae-86e7-d5a54ab04cd9",
   "metadata": {},
   "outputs": [
    {
     "name": "stdout",
     "output_type": "stream",
     "text": [
      "         * \n",
      "        * * \n",
      "       * * * \n",
      "      * * * * \n",
      "     * * * * * \n",
      "    * * * * * * \n",
      "   * * * * * * * \n",
      "  * * * * * * * * \n",
      " * * * * * * * * * \n",
      "* * * * * * * * * * \n",
      " * * * * * * * * * \n",
      "  * * * * * * * * \n",
      "   * * * * * * * \n",
      "    * * * * * * \n",
      "     * * * * * \n",
      "      * * * * \n",
      "       * * * \n",
      "        * * \n",
      "         * \n"
     ]
    }
   ],
   "source": [
    "rows=10\n",
    "for i in range(1, rows+1):\n",
    "    print(' '*(rows-i)+'* '*i)\n",
    "for i in range(rows-1, 0,-1):\n",
    "    print(' '*(rows-i)+'* '*i)"
   ]
  },
  {
   "cell_type": "markdown",
   "id": "71a5f483-71f7-4c7b-a9ac-b6301c94aca8",
   "metadata": {},
   "source": [
    "### 6. Hallow Square Pattern"
   ]
  },
  {
   "cell_type": "code",
   "execution_count": 43,
   "id": "a14b8734-c415-40cf-9fa4-24a58261eb76",
   "metadata": {},
   "outputs": [
    {
     "name": "stdout",
     "output_type": "stream",
     "text": [
      "*****\n",
      "*   *\n",
      "*   *\n",
      "*   *\n",
      "*****\n"
     ]
    }
   ],
   "source": [
    "for i in range(5):\n",
    "    for j in range(5):\n",
    "        if i==0 or i==4 or j==0 or j==4:\n",
    "            print('*', end='')\n",
    "        else:\n",
    "            print(' ',end='')\n",
    "    print()"
   ]
  },
  {
   "cell_type": "markdown",
   "id": "1fc804ca-d66b-430b-9beb-1ace69774fb0",
   "metadata": {},
   "source": [
    "### 7. Full Square Pattern"
   ]
  },
  {
   "cell_type": "code",
   "execution_count": 46,
   "id": "25de5d27-0df7-4c5c-936d-cbca5570b8da",
   "metadata": {},
   "outputs": [
    {
     "name": "stdout",
     "output_type": "stream",
     "text": [
      "* * * * * \n",
      "* * * * * \n",
      "* * * * * \n",
      "* * * * * \n",
      "* * * * * \n"
     ]
    }
   ],
   "source": [
    "for i in range(5):\n",
    "    print('* '*5)"
   ]
  },
  {
   "cell_type": "markdown",
   "id": "dcd37d92-2129-4f4d-b259-aefdb7a7701b",
   "metadata": {},
   "source": [
    "### 8. Right Angle Trianle (Number Pattern)"
   ]
  },
  {
   "cell_type": "code",
   "execution_count": 55,
   "id": "15cda754-34b0-4c98-8b26-d2580e721988",
   "metadata": {},
   "outputs": [
    {
     "name": "stdout",
     "output_type": "stream",
     "text": [
      "1\n",
      "12\n",
      "123\n",
      "1234\n",
      "12345\n"
     ]
    }
   ],
   "source": [
    "for i in range(1,6):\n",
    "    for j in range(1,6):\n",
    "        if i>=j:\n",
    "            print(j, end='')\n",
    "    print()"
   ]
  },
  {
   "cell_type": "markdown",
   "id": "5437ff3c-3f5b-4bec-8438-a7ed23a90832",
   "metadata": {},
   "source": [
    "### 9. Inverted Right Angle Trianle (Number Pattern)"
   ]
  },
  {
   "cell_type": "code",
   "execution_count": 58,
   "id": "3e51fe9c-cbc8-47f0-9eb4-dea85889a849",
   "metadata": {},
   "outputs": [
    {
     "name": "stdout",
     "output_type": "stream",
     "text": [
      "12345\n",
      "1234\n",
      "123\n",
      "12\n",
      "1\n"
     ]
    }
   ],
   "source": [
    "count=5\n",
    "for i in range(1,6):\n",
    "    for j in range(1,6):\n",
    "        if count>=j:\n",
    "            print(j, end='')\n",
    "    print()\n",
    "    count= count-1"
   ]
  },
  {
   "cell_type": "markdown",
   "id": "61bbaf95-7b6e-4db7-b4f1-7967028a49a8",
   "metadata": {},
   "source": [
    "### 10.  Floyd's Triangle"
   ]
  },
  {
   "cell_type": "code",
   "execution_count": 60,
   "id": "ff12a431-82bc-4ea6-9d83-1d14a28993a2",
   "metadata": {},
   "outputs": [
    {
     "name": "stdout",
     "output_type": "stream",
     "text": [
      "1 \n",
      "2 3 \n",
      "4 5 6 \n",
      "7 8 9 10 \n",
      "11 12 13 14 15 \n"
     ]
    }
   ],
   "source": [
    "count=1\n",
    "for i in range(1,6):\n",
    "    for j in range(1,6):\n",
    "        if i>=j:\n",
    "            print(count, end=' ')\n",
    "            count+=1\n",
    "    print()"
   ]
  },
  {
   "cell_type": "markdown",
   "id": "f728a03d-b479-46bd-8a23-bcb84fa87dc4",
   "metadata": {},
   "source": [
    "### 11. Hallow Right angle"
   ]
  },
  {
   "cell_type": "code",
   "execution_count": 64,
   "id": "fa62387f-a5ba-4d8f-9483-ecead84e7815",
   "metadata": {},
   "outputs": [
    {
     "name": "stdout",
     "output_type": "stream",
     "text": [
      "* \n",
      "* * \n",
      "*   * \n",
      "*     * \n",
      "* * * * * \n"
     ]
    }
   ],
   "source": [
    "for i in range(1,6):\n",
    "    for j in range(1, i+1):\n",
    "        if i==5 or j==1 or j==i:\n",
    "            print('*', end=' ')\n",
    "        else:\n",
    "            print(' ',end=' ')\n",
    "    print()"
   ]
  },
  {
   "cell_type": "markdown",
   "id": "2da10d2f-94e0-4b33-8abe-622a4f0f9ee6",
   "metadata": {},
   "source": [
    "### for else\n",
    "\n",
    "#### If loop will finish without interruption(means with out executing break), so the else block will execute"
   ]
  },
  {
   "cell_type": "markdown",
   "id": "b9737230-b499-4e15-a294-1ff48bff508f",
   "metadata": {},
   "source": [
    "##### write a program to find a number which is divisible by 5 in given set of numbers"
   ]
  },
  {
   "cell_type": "code",
   "execution_count": 65,
   "id": "2d75e4c1-8f20-4c19-b8f8-8f79352a6fe0",
   "metadata": {},
   "outputs": [
    {
     "name": "stdout",
     "output_type": "stream",
     "text": [
      "Number Not Found\n"
     ]
    }
   ],
   "source": [
    "nums = [7,14,18,21,23,27] #hear there is no number which is divisible by 5 we got output as blank\n",
    "\n",
    "for num in nums:\n",
    "    if num % 5 == 0:\n",
    "        print(num)  \n",
    "        break\n",
    "else:\n",
    "        print('Number Not Found')"
   ]
  },
  {
   "cell_type": "code",
   "execution_count": 66,
   "id": "b9113ac3-6cf6-443c-89ad-119c323f0770",
   "metadata": {},
   "outputs": [
    {
     "name": "stdout",
     "output_type": "stream",
     "text": [
      "10\n"
     ]
    }
   ],
   "source": [
    "nums = [10,14,18,21,20,27] #hear there is no number which is divisible by 5 we got output as blank\n",
    "\n",
    "for num in nums:\n",
    "    if num % 5 == 0:\n",
    "        print(num)  \n",
    "        break\n",
    "else:\n",
    "        print('Not Found')"
   ]
  },
  {
   "cell_type": "markdown",
   "id": "6e6f3421-156d-49ee-bcbe-e8f0a688148c",
   "metadata": {},
   "source": [
    "### check given number is prime or not"
   ]
  },
  {
   "cell_type": "code",
   "execution_count": 69,
   "id": "137260c6-300a-47e4-9e3d-80d173370405",
   "metadata": {},
   "outputs": [
    {
     "name": "stdin",
     "output_type": "stream",
     "text": [
      "Enter a number to check whether its prime or not:: 9\n"
     ]
    },
    {
     "name": "stdout",
     "output_type": "stream",
     "text": [
      "Given Number is not a prime number\n"
     ]
    }
   ],
   "source": [
    "num=int(input('Enter a number to check whether its prime or not::'))\n",
    "for i in range(2, num):\n",
    "    if num%i==0:\n",
    "        print(\"Given Number is not a prime number\")\n",
    "        break\n",
    "else:\n",
    "    print(\"Prime Number\")"
   ]
  },
  {
   "cell_type": "markdown",
   "id": "608e0cb6-3361-43b7-8eb2-57eb9df553fd",
   "metadata": {},
   "source": [
    "### Array in Python"
   ]
  },
  {
   "cell_type": "code",
   "execution_count": 71,
   "id": "8f53be61-ee2e-40bf-94f8-c78f432b99dc",
   "metadata": {},
   "outputs": [
    {
     "name": "stdin",
     "output_type": "stream",
     "text": [
      "Enter the length of an array 6\n",
      "Enter the next value 2\n",
      "Enter the next value 4\n",
      "Enter the next value 7\n",
      "Enter the next value 5\n",
      "Enter the next value 9\n",
      "Enter the next value 8\n"
     ]
    },
    {
     "name": "stdout",
     "output_type": "stream",
     "text": [
      "array('i', [2, 4, 7, 5, 9, 8])\n"
     ]
    }
   ],
   "source": [
    "from array import *\n",
    "arr=array('i',[])\n",
    "\n",
    "n=int(input('Enter the length of an array'))\n",
    "\n",
    "for i in range(n):\n",
    "    x=int(input('Enter the next value'))\n",
    "    arr.append(x)\n",
    "print(arr)"
   ]
  },
  {
   "cell_type": "markdown",
   "id": "f5ac0a52-511b-4c95-aaa9-03d744f87328",
   "metadata": {},
   "source": [
    "### Way of creating array using numpy"
   ]
  },
  {
   "cell_type": "code",
   "execution_count": 72,
   "id": "ba4f8871-a080-4cdd-91f3-4cc9c328768b",
   "metadata": {},
   "outputs": [
    {
     "name": "stdout",
     "output_type": "stream",
     "text": [
      "[1 2 3 4 5]\n"
     ]
    },
    {
     "data": {
      "text/plain": [
       "numpy.ndarray"
      ]
     },
     "execution_count": 72,
     "metadata": {},
     "output_type": "execute_result"
    }
   ],
   "source": [
    "from numpy import *\n",
    "arr = array([1,2,3,4,5])\n",
    "print(arr)\n",
    "type(arr)"
   ]
  },
  {
   "cell_type": "code",
   "execution_count": 73,
   "id": "63d084b9-9e43-4703-bc0d-86961a9813c3",
   "metadata": {},
   "outputs": [
    {
     "name": "stdout",
     "output_type": "stream",
     "text": [
      "int32\n"
     ]
    }
   ],
   "source": [
    "print(arr.dtype)"
   ]
  },
  {
   "cell_type": "code",
   "execution_count": 74,
   "id": "4c6c4214-2daa-4095-b63c-fb0a9edcbefe",
   "metadata": {},
   "outputs": [
    {
     "name": "stdout",
     "output_type": "stream",
     "text": [
      "[1.  2.  3.  4.  5.9]\n"
     ]
    }
   ],
   "source": [
    "arr = array([1,2,3,4,5.9])\n",
    "print(arr)"
   ]
  },
  {
   "cell_type": "code",
   "execution_count": 75,
   "id": "6b1016b0-8a8c-4dd7-b2f5-bf0647ca7c9c",
   "metadata": {},
   "outputs": [
    {
     "name": "stdout",
     "output_type": "stream",
     "text": [
      "float64\n"
     ]
    }
   ],
   "source": [
    "print(arr.dtype)"
   ]
  },
  {
   "cell_type": "code",
   "execution_count": 76,
   "id": "db44d554-7e59-43a6-afbb-6641c54f9eb5",
   "metadata": {},
   "outputs": [
    {
     "data": {
      "text/plain": [
       "array([1. , 2. , 3. , 4. , 5.9])"
      ]
     },
     "execution_count": 76,
     "metadata": {},
     "output_type": "execute_result"
    }
   ],
   "source": [
    "arr2 = array([1,2,3,4,5.9],float)\n",
    "arr2"
   ]
  },
  {
   "cell_type": "code",
   "execution_count": 77,
   "id": "7a9d09c1-d420-441e-806f-90250dcdad19",
   "metadata": {},
   "outputs": [
    {
     "data": {
      "text/plain": [
       "array([1, 2, 3, 4, 5])"
      ]
     },
     "execution_count": 77,
     "metadata": {},
     "output_type": "execute_result"
    }
   ],
   "source": [
    "arr3 = array([1,2,3,4,5.6],int)\n",
    "arr3"
   ]
  },
  {
   "cell_type": "code",
   "execution_count": 78,
   "id": "99df2638-6351-4eb2-af36-c89a6a76dd52",
   "metadata": {},
   "outputs": [],
   "source": [
    "import numpy as np"
   ]
  },
  {
   "cell_type": "code",
   "execution_count": 79,
   "id": "5ea193e6-6312-450c-8881-f91c8242241d",
   "metadata": {},
   "outputs": [
    {
     "data": {
      "text/plain": [
       "array([ 0.        ,  1.77777778,  3.55555556,  5.33333333,  7.11111111,\n",
       "        8.88888889, 10.66666667, 12.44444444, 14.22222222, 16.        ])"
      ]
     },
     "execution_count": 79,
     "metadata": {},
     "output_type": "execute_result"
    }
   ],
   "source": [
    "arr4 = np.linspace(0, 16, 10) # break the code between 10 spaces between 0 to 16 but why decimal becuase we break into parts thats why it is floats\n",
    "arr4"
   ]
  },
  {
   "cell_type": "code",
   "execution_count": 81,
   "id": "465a813d-f6c6-4a57-b360-4840788bb818",
   "metadata": {},
   "outputs": [
    {
     "data": {
      "text/plain": [
       "array([0, 2, 4, 6, 8])"
      ]
     },
     "execution_count": 81,
     "metadata": {},
     "output_type": "execute_result"
    }
   ],
   "source": [
    "arr5 = np.arange(0,10,2) # arange - as range\n",
    "arr5"
   ]
  },
  {
   "cell_type": "code",
   "execution_count": 82,
   "id": "50c18c63-b50e-461b-832a-598a4775c82e",
   "metadata": {},
   "outputs": [
    {
     "data": {
      "text/plain": [
       "array([0., 0., 0., 0., 0.])"
      ]
     },
     "execution_count": 82,
     "metadata": {},
     "output_type": "execute_result"
    }
   ],
   "source": [
    "arr6 = np.zeros(5)\n",
    "arr6"
   ]
  },
  {
   "cell_type": "code",
   "execution_count": 83,
   "id": "310ecaae-4b21-4e64-be65-362e3316ef7a",
   "metadata": {},
   "outputs": [
    {
     "data": {
      "text/plain": [
       "array([1., 1., 1., 1., 1.])"
      ]
     },
     "execution_count": 83,
     "metadata": {},
     "output_type": "execute_result"
    }
   ],
   "source": [
    "arr7 = np.ones(5)\n",
    "arr7"
   ]
  }
 ],
 "metadata": {
  "kernelspec": {
   "display_name": "Python [conda env:base] *",
   "language": "python",
   "name": "conda-base-py"
  },
  "language_info": {
   "codemirror_mode": {
    "name": "ipython",
    "version": 3
   },
   "file_extension": ".py",
   "mimetype": "text/x-python",
   "name": "python",
   "nbconvert_exporter": "python",
   "pygments_lexer": "ipython3",
   "version": "3.12.7"
  }
 },
 "nbformat": 4,
 "nbformat_minor": 5
}
